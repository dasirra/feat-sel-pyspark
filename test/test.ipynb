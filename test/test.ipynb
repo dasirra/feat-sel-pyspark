{
 "cells": [
  {
   "cell_type": "code",
   "execution_count": 96,
   "metadata": {
    "collapsed": false
   },
   "outputs": [],
   "source": [
    "from operator import add\n",
    "\n",
    "from pyspark.mllib.linalg.distributed import RowMatrix\n",
    "\n",
    "from pyspark.ml.feature import RFormula\n",
    "\n",
    "from pyspark.mllib.linalg import DenseVector\n",
    "from pyspark.mllib.stat import Statistics\n",
    "\n",
    "from pyspark.sql import Row\n",
    "from pyspark.sql.types import *"
   ]
  },
  {
   "cell_type": "markdown",
   "metadata": {},
   "source": [
    "# Functions"
   ]
  },
  {
   "cell_type": "markdown",
   "metadata": {},
   "source": [
    "# Load test data"
   ]
  },
  {
   "cell_type": "code",
   "execution_count": 40,
   "metadata": {
    "collapsed": false,
    "scrolled": false
   },
   "outputs": [],
   "source": [
    "# Load data\n",
    "wwine_rdd = sc.textFile(\"wine-data/winequality-white.csv\")\n",
    "wwine_rdd = wwine_rdd.map(lambda line: line.replace('\"',''))\n",
    "wwine_rdd = wwine_rdd.map(lambda line: line.replace(';',','))"
   ]
  },
  {
   "cell_type": "code",
   "execution_count": 41,
   "metadata": {
    "collapsed": false
   },
   "outputs": [],
   "source": [
    "# Get header\n",
    "header_str = wwine_rdd.first()\n",
    "header = header_str.split(',')\n",
    "header = map(lambda h: h.replace(' ','_'),header)\n",
    "Wine = Row(*header)\n"
   ]
  },
  {
   "cell_type": "code",
   "execution_count": 42,
   "metadata": {
    "collapsed": false,
    "scrolled": true
   },
   "outputs": [
    {
     "name": "stdout",
     "output_type": "stream",
     "text": [
      "root\n",
      " |-- fixed_acidity: double (nullable = true)\n",
      " |-- volatile_acidity: double (nullable = true)\n",
      " |-- citric_acid: double (nullable = true)\n",
      " |-- residual_sugar: double (nullable = true)\n",
      " |-- chlorides: double (nullable = true)\n",
      " |-- free_sulfur_dioxide: double (nullable = true)\n",
      " |-- total_sulfur_dioxide: double (nullable = true)\n",
      " |-- density: double (nullable = true)\n",
      " |-- pH: double (nullable = true)\n",
      " |-- sulphates: double (nullable = true)\n",
      " |-- alcohol: double (nullable = true)\n",
      " |-- quality: double (nullable = true)\n",
      "\n"
     ]
    }
   ],
   "source": [
    "# Create colection of Rows\n",
    "data = wwine_rdd.filter(lambda x: x!=header_str)\n",
    "data = data.map(lambda w: w.split(','))\n",
    "data = data.map(lambda w: map(float,w))\n",
    "#data = data.map(lambda w: Wine(*w))\n",
    "\n",
    "# Create DataFrame\n",
    "df = sqlContext.createDataFrame(data, schema=header)\n",
    "df.printSchema()"
   ]
  },
  {
   "cell_type": "code",
   "execution_count": 43,
   "metadata": {
    "collapsed": false
   },
   "outputs": [],
   "source": [
    "# Build feature assemble\n",
    "predictors = ['fixed_acidity',\n",
    "              'volatile_acidity',\n",
    "              'citric_acid',\n",
    "              'residual_sugar',\n",
    "              'chlorides',\n",
    "              'free_sulfur_dioxide',\n",
    "              'total_sulfur_dioxide',\n",
    "              'density',\n",
    "              'pH',\n",
    "              'sulphates',\n",
    "              'alcohol']\n",
    "formula = RFormula(\n",
    "    formula = 'quality ~ ' + '+'.join(predictors),\n",
    "    featuresCol = 'features',\n",
    "    labelCol = 'target'\n",
    ")\n",
    "out_df = formula.fit(df).transform(df)"
   ]
  },
  {
   "cell_type": "markdown",
   "metadata": {},
   "source": [
    "# Univariate selection"
   ]
  },
  {
   "cell_type": "code",
   "execution_count": 164,
   "metadata": {
    "collapsed": true
   },
   "outputs": [],
   "source": [
    "# Functions\n",
    "def d_corr(v1, v2):\n",
    "    return Statistics.corr(v1,v2)\n",
    "\n",
    "def d_ftest(v, t):\n",
    "    \n",
    "    # calculate auxiliary variables\n",
    "    n_samples = v.count()\n",
    "    n_groups = t.distinct().count() # number of distinct groups\n",
    "    overall_mean = vector.mean() # overall mean\n",
    "    aux_mean = z_vector.aggregateByKey((0,0),\n",
    "                                  lambda x,y: (x[0]+y,x[1]+1),\n",
    "                                  lambda x,y: (x[0]+y[0],x[1]+y[1]))\n",
    "    group_count = aux_mean.map(lambda (label,x): (label,x[1])) # per group mean\n",
    "    group_mean = aux_mean.map(lambda (label,x): (label,x[0]/x[1])) # per group mean\n",
    "    aux_within = z_vector.leftOuterJoin(group_mean)\n",
    "\n",
    "    # between-group variability\n",
    "    num = sum([nx[1]*(mx[1]-overall_mean)**2 for (nx,mx) in zip(group_count.collect(),\n",
    "                                                                group_mean.collect())])/float(n_groups-1)\n",
    "    \n",
    "    # within-group variability\n",
    "    den = aux_within.map(lambda (_,x): (x[0]-x[1])**2).reduce(add)/float(n_samples-n_groups)\n",
    "    \n",
    "    return num/den"
   ]
  },
  {
   "cell_type": "code",
   "execution_count": 165,
   "metadata": {
    "collapsed": false,
    "scrolled": true
   },
   "outputs": [],
   "source": [
    "# Extract features and target\n",
    "feats = out_df.select('features').rdd\n",
    "feats = feats.map(lambda x: x['features'])\n",
    "target = out_df.select('target').rdd\n",
    "target = target.map(lambda x: x['target'])\n",
    "\n",
    "# Compute correlation\n",
    "corr_scores = []\n",
    "for feat in range(feats.first().size):\n",
    "    vector = feats.map(lambda x: x[feat])\n",
    "    corr_scores.append(d_corr(vector,target))\n",
    "    \n",
    "f_scores = []\n",
    "for feat in range(feats.first().size):\n",
    "    vector = feats.map(lambda x: x[feat])\n",
    "    f_scores.append(d_ftest(vector,target))"
   ]
  }
 ],
 "metadata": {
  "kernelspec": {
   "display_name": "PySpark-dsierra (Spark 1.6 - python27)",
   "language": "python",
   "name": "pyspark-py27"
  },
  "language_info": {
   "codemirror_mode": {
    "name": "ipython",
    "version": 2
   },
   "file_extension": ".py",
   "mimetype": "text/x-python",
   "name": "python",
   "nbconvert_exporter": "python",
   "pygments_lexer": "ipython2",
   "version": "2.7.11"
  }
 },
 "nbformat": 4,
 "nbformat_minor": 0
}

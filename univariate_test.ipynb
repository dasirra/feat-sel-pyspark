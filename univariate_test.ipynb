{
 "cells": [
  {
   "cell_type": "code",
   "execution_count": 1,
   "metadata": {
    "collapsed": false
   },
   "outputs": [],
   "source": [
    "from operator import add\n",
    "\n",
    "from pyspark.mllib.linalg.distributed import RowMatrix\n",
    "from pyspark.ml.feature import RFormula\n",
    "from pyspark.mllib.stat import Statistics\n",
    "from pyspark.sql import Row\n",
    "from pyspark.sql.types import *\n",
    "\n",
    "from feat_sel.univariate import SelectKBest"
   ]
  },
  {
   "cell_type": "markdown",
   "metadata": {},
   "source": [
    "# Functions"
   ]
  },
  {
   "cell_type": "markdown",
   "metadata": {},
   "source": [
    "# Load test data"
   ]
  },
  {
   "cell_type": "code",
   "execution_count": 2,
   "metadata": {
    "collapsed": false,
    "scrolled": false
   },
   "outputs": [],
   "source": [
    "# Load data\n",
    "wwine_rdd = sc.textFile(\"wine-data/winequality-white.csv\")\n",
    "wwine_rdd = wwine_rdd.map(lambda line: line.replace('\"',''))\n",
    "wwine_rdd = wwine_rdd.map(lambda line: line.replace(';',','))"
   ]
  },
  {
   "cell_type": "code",
   "execution_count": 3,
   "metadata": {
    "collapsed": false
   },
   "outputs": [],
   "source": [
    "# Get header\n",
    "header_str = wwine_rdd.first()\n",
    "header = header_str.split(',')\n",
    "header = map(lambda h: h.replace(' ','_'),header)\n",
    "Wine = Row(*header)\n"
   ]
  },
  {
   "cell_type": "code",
   "execution_count": 4,
   "metadata": {
    "collapsed": false,
    "scrolled": true
   },
   "outputs": [
    {
     "name": "stdout",
     "output_type": "stream",
     "text": [
      "root\n",
      " |-- fixed_acidity: double (nullable = true)\n",
      " |-- volatile_acidity: double (nullable = true)\n",
      " |-- citric_acid: double (nullable = true)\n",
      " |-- residual_sugar: double (nullable = true)\n",
      " |-- chlorides: double (nullable = true)\n",
      " |-- free_sulfur_dioxide: double (nullable = true)\n",
      " |-- total_sulfur_dioxide: double (nullable = true)\n",
      " |-- density: double (nullable = true)\n",
      " |-- pH: double (nullable = true)\n",
      " |-- sulphates: double (nullable = true)\n",
      " |-- alcohol: double (nullable = true)\n",
      " |-- quality: double (nullable = true)\n",
      "\n"
     ]
    }
   ],
   "source": [
    "# Create colection of Rows\n",
    "data = wwine_rdd.filter(lambda x: x!=header_str)\n",
    "data = data.map(lambda w: w.split(','))\n",
    "data = data.map(lambda w: map(float,w))\n",
    "#data = data.map(lambda w: Wine(*w))\n",
    "\n",
    "# Create DataFrame\n",
    "df = sqlContext.createDataFrame(data, schema=header)\n",
    "df.printSchema()"
   ]
  },
  {
   "cell_type": "code",
   "execution_count": 43,
   "metadata": {
    "collapsed": false
   },
   "outputs": [],
   "source": [
    "# Build feature assemble\n",
    "predictors = ['fixed_acidity',\n",
    "              'volatile_acidity',\n",
    "              'citric_acid',\n",
    "              'residual_sugar',\n",
    "              'chlorides',\n",
    "              'free_sulfur_dioxide',\n",
    "              'total_sulfur_dioxide',\n",
    "              'density',\n",
    "              'pH',\n",
    "              'sulphates',\n",
    "              'alcohol']\n",
    "formula = RFormula(\n",
    "    formula = 'quality ~ ' + '+'.join(predictors),\n",
    "    featuresCol = 'features',\n",
    "    labelCol = 'target'\n",
    ")\n",
    "out_df = formula.fit(df).transform(df)"
   ]
  },
  {
   "cell_type": "markdown",
   "metadata": {},
   "source": [
    "# Univariate selection"
   ]
  },
  {
   "cell_type": "code",
   "execution_count": 164,
   "metadata": {
    "collapsed": true
   },
   "outputs": [],
   "source": [
    "# Functions\n",
    "def d_corr(v1, v2):\n",
    "    return Statistics.corr(v1,v2)\n",
    "\n",
    "def d_ftest(v, t):\n",
    "    \n",
    "    # calculate auxiliary variables\n",
    "    n_samples = v.count()\n",
    "    n_groups = t.distinct().count() # number of distinct groups\n",
    "    overall_mean = vector.mean() # overall mean\n",
    "    aux_mean = z_vector.aggregateByKey((0,0),\n",
    "                                  lambda x,y: (x[0]+y,x[1]+1),\n",
    "                                  lambda x,y: (x[0]+y[0],x[1]+y[1]))\n",
    "    group_count = aux_mean.map(lambda (label,x): (label,x[1])) # per group mean\n",
    "    group_mean = aux_mean.map(lambda (label,x): (label,x[0]/x[1])) # per group mean\n",
    "    aux_within = z_vector.leftOuterJoin(group_mean)\n",
    "\n",
    "    # between-group variability\n",
    "    num = sum([nx[1]*(mx[1]-overall_mean)**2 for (nx,mx) in zip(group_count.collect(),\n",
    "                                                                group_mean.collect())])/float(n_groups-1)\n",
    "    \n",
    "    # within-group variability\n",
    "    den = aux_within.map(lambda (_,x): (x[0]-x[1])**2).reduce(add)/float(n_samples-n_groups)\n",
    "    \n",
    "    return num/den"
   ]
  },
  {
   "cell_type": "code",
   "execution_count": 165,
   "metadata": {
    "collapsed": false,
    "scrolled": true
   },
   "outputs": [],
   "source": [
    "# Extract features and target\n",
    "feats = out_df.select('features').rdd\n",
    "feats = feats.map(lambda x: x['features'])\n",
    "target = out_df.select('target').rdd\n",
    "target = target.map(lambda x: x['target'])\n",
    "\n",
    "# Compute correlation\n",
    "corr_scores = []\n",
    "for feat in range(feats.first().size):\n",
    "    vector = feats.map(lambda x: x[feat])\n",
    "    corr_scores.append(d_corr(vector,target))\n",
    "    \n",
    "f_scores = []\n",
    "for feat in range(feats.first().size):\n",
    "    vector = feats.map(lambda x: x[feat])\n",
    "    f_scores.append(d_ftest(vector,target))"
   ]
  },
  {
   "cell_type": "code",
   "execution_count": null,
   "metadata": {
    "collapsed": true
   },
   "outputs": [],
   "source": []
  },
  {
   "cell_type": "code",
   "execution_count": 5,
   "metadata": {
    "collapsed": false
   },
   "outputs": [],
   "source": [
    "kb = SelectKBest(k=3, method='corr')\n",
    "\n",
    "feature_cols = ['fixed_acidity',\n",
    "              'volatile_acidity',\n",
    "              'citric_acid',\n",
    "              'residual_sugar']\n",
    "target_col = 'quality'\n",
    "kb.fit(df, featureCols=feature_cols, targetCol=target_col)"
   ]
  },
  {
   "cell_type": "code",
   "execution_count": 6,
   "metadata": {
    "collapsed": false
   },
   "outputs": [],
   "source": [
    "out_df = kb.transform(df)"
   ]
  },
  {
   "cell_type": "code",
   "execution_count": 7,
   "metadata": {
    "collapsed": false
   },
   "outputs": [
    {
     "name": "stdout",
     "output_type": "stream",
     "text": [
      "+----------------+-------------+--------------+-----------+\n",
      "|volatile_acidity|fixed_acidity|residual_sugar|citric_acid|\n",
      "+----------------+-------------+--------------+-----------+\n",
      "|            0.27|          7.0|          20.7|       0.36|\n",
      "|             0.3|          6.3|           1.6|       0.34|\n",
      "|            0.28|          8.1|           6.9|        0.4|\n",
      "|            0.23|          7.2|           8.5|       0.32|\n",
      "|            0.23|          7.2|           8.5|       0.32|\n",
      "|            0.28|          8.1|           6.9|        0.4|\n",
      "|            0.32|          6.2|           7.0|       0.16|\n",
      "|            0.27|          7.0|          20.7|       0.36|\n",
      "|             0.3|          6.3|           1.6|       0.34|\n",
      "|            0.22|          8.1|           1.5|       0.43|\n",
      "|            0.27|          8.1|          1.45|       0.41|\n",
      "|            0.23|          8.6|           4.2|        0.4|\n",
      "|            0.18|          7.9|           1.2|       0.37|\n",
      "|            0.16|          6.6|           1.5|        0.4|\n",
      "|            0.42|          8.3|         19.25|       0.62|\n",
      "|            0.17|          6.6|           1.5|       0.38|\n",
      "|            0.48|          6.3|           1.1|       0.04|\n",
      "|            0.66|          6.2|           1.2|       0.48|\n",
      "|            0.34|          7.4|           1.1|       0.42|\n",
      "|            0.31|          6.5|           7.5|       0.14|\n",
      "+----------------+-------------+--------------+-----------+\n",
      "only showing top 20 rows\n",
      "\n"
     ]
    }
   ],
   "source": [
    "out_df.show()"
   ]
  },
  {
   "cell_type": "code",
   "execution_count": null,
   "metadata": {
    "collapsed": true
   },
   "outputs": [],
   "source": []
  }
 ],
 "metadata": {
  "kernelspec": {
   "display_name": "PySpark-dsierra (Spark 1.6 - python27)",
   "language": "python",
   "name": "pyspark-py27"
  },
  "language_info": {
   "codemirror_mode": {
    "name": "ipython",
    "version": 2
   },
   "file_extension": ".py",
   "mimetype": "text/x-python",
   "name": "python",
   "nbconvert_exporter": "python",
   "pygments_lexer": "ipython2",
   "version": "2.7.11"
  }
 },
 "nbformat": 4,
 "nbformat_minor": 0
}

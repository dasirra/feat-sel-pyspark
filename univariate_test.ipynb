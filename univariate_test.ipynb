{
 "cells": [
  {
   "cell_type": "code",
   "execution_count": 1,
   "metadata": {
    "collapsed": false
   },
   "outputs": [],
   "source": [
    "from operator import add\n",
    "\n",
    "from pyspark.mllib.linalg.distributed import RowMatrix\n",
    "from pyspark.ml.feature import RFormula\n",
    "from pyspark.mllib.stat import Statistics\n",
    "from pyspark.sql import Row\n",
    "from pyspark.sql.types import *\n",
    "\n",
    "from feature_selection.univariate import SelectKBest"
   ]
  },
  {
   "cell_type": "markdown",
   "metadata": {},
   "source": [
    "# Functions"
   ]
  },
  {
   "cell_type": "markdown",
   "metadata": {},
   "source": [
    "# Load test data"
   ]
  },
  {
   "cell_type": "code",
   "execution_count": 2,
   "metadata": {
    "collapsed": false,
    "scrolled": false
   },
   "outputs": [],
   "source": [
    "# Load data\n",
    "wwine_rdd = sc.textFile(\"wine-data/winequality-white.csv\")\n",
    "wwine_rdd = wwine_rdd.map(lambda line: line.replace('\"',''))\n",
    "wwine_rdd = wwine_rdd.map(lambda line: line.replace(';',','))"
   ]
  },
  {
   "cell_type": "code",
   "execution_count": 3,
   "metadata": {
    "collapsed": false
   },
   "outputs": [],
   "source": [
    "# Get header\n",
    "header_str = wwine_rdd.first()\n",
    "header = header_str.split(',')\n",
    "header = map(lambda h: h.replace(' ','_'),header)\n",
    "Wine = Row(*header)\n"
   ]
  },
  {
   "cell_type": "code",
   "execution_count": 4,
   "metadata": {
    "collapsed": false,
    "scrolled": true
   },
   "outputs": [
    {
     "name": "stdout",
     "output_type": "stream",
     "text": [
      "root\n",
      " |-- fixed_acidity: double (nullable = true)\n",
      " |-- volatile_acidity: double (nullable = true)\n",
      " |-- citric_acid: double (nullable = true)\n",
      " |-- residual_sugar: double (nullable = true)\n",
      " |-- chlorides: double (nullable = true)\n",
      " |-- free_sulfur_dioxide: double (nullable = true)\n",
      " |-- total_sulfur_dioxide: double (nullable = true)\n",
      " |-- density: double (nullable = true)\n",
      " |-- pH: double (nullable = true)\n",
      " |-- sulphates: double (nullable = true)\n",
      " |-- alcohol: double (nullable = true)\n",
      " |-- quality: double (nullable = true)\n",
      "\n"
     ]
    }
   ],
   "source": [
    "# Create colection of Rows\n",
    "data = wwine_rdd.filter(lambda x: x!=header_str)\n",
    "data = data.map(lambda w: w.split(','))\n",
    "data = data.map(lambda w: map(float,w))\n",
    "#data = data.map(lambda w: Wine(*w))\n",
    "\n",
    "# Create DataFrame\n",
    "df = sqlContext.createDataFrame(data, schema=header)\n",
    "df.printSchema()"
   ]
  },
  {
   "cell_type": "markdown",
   "metadata": {},
   "source": [
    "# Univariate selection"
   ]
  },
  {
   "cell_type": "code",
   "execution_count": 5,
   "metadata": {
    "collapsed": false
   },
   "outputs": [],
   "source": [
    "feature_cols = ['fixed_acidity',\n",
    "                'volatile_acidity',\n",
    "                'citric_acid',\n",
    "                'residual_sugar',\n",
    "                'chlorides',\n",
    "                'free_sulfur_dioxide',\n",
    "                'total_sulfur_dioxide',\n",
    "                'density',\n",
    "                'pH',\n",
    "                'sulphates',\n",
    "                'alcohol']\n",
    "target_col = 'quality'\n",
    "\n",
    "kb = SelectKBest(k=3, method='fscore')\n",
    "out_df = kb.transform(df, featureCols=feature_cols, targetCol=target_col)"
   ]
  },
  {
   "cell_type": "code",
   "execution_count": 22,
   "metadata": {
    "collapsed": false
   },
   "outputs": [
    {
     "name": "stdout",
     "output_type": "stream",
     "text": [
      "+-------+-------+----------------+\n",
      "|alcohol|density|volatile_acidity|\n",
      "+-------+-------+----------------+\n",
      "|    8.8|  1.001|            0.27|\n",
      "|    9.5|  0.994|             0.3|\n",
      "|   10.1| 0.9951|            0.28|\n",
      "|    9.9| 0.9956|            0.23|\n",
      "|    9.9| 0.9956|            0.23|\n",
      "+-------+-------+----------------+\n",
      "only showing top 5 rows\n",
      "\n"
     ]
    }
   ],
   "source": [
    "out_df.show(n=5)"
   ]
  },
  {
   "cell_type": "markdown",
   "metadata": {},
   "source": [
    "### sklearn check"
   ]
  },
  {
   "cell_type": "code",
   "execution_count": 10,
   "metadata": {
    "collapsed": false
   },
   "outputs": [
    {
     "data": {
      "text/plain": [
       "SelectKBest(k=3, score_func=<function f_classif at 0x7f12632e2848>)"
      ]
     },
     "execution_count": 10,
     "metadata": {},
     "output_type": "execute_result"
    }
   ],
   "source": [
    "# test with scikit-learn\n",
    "from sklearn.feature_selection import SelectKBest, f_classif\n",
    "\n",
    "dp = df.toPandas()\n",
    "p_kb = SelectKBest(score_func=f_classif, k=3)\n",
    "p_kb.fit(dp[dp.columns[:-1]],dp[dp.columns[-1]])"
   ]
  },
  {
   "cell_type": "code",
   "execution_count": 11,
   "metadata": {
    "collapsed": false
   },
   "outputs": [
    {
     "data": {
      "text/plain": [
       "array([[  0.27   ,   1.001  ,   8.8    ],\n",
       "       [  0.3    ,   0.994  ,   9.5    ],\n",
       "       [  0.28   ,   0.9951 ,  10.1    ],\n",
       "       ..., \n",
       "       [  0.24   ,   0.99254,   9.4    ],\n",
       "       [  0.29   ,   0.98869,  12.8    ],\n",
       "       [  0.21   ,   0.98941,  11.8    ]])"
      ]
     },
     "execution_count": 11,
     "metadata": {},
     "output_type": "execute_result"
    }
   ],
   "source": [
    "p_kb.transform(dp[dp.columns[:-1]])"
   ]
  },
  {
   "cell_type": "code",
   "execution_count": 21,
   "metadata": {
    "collapsed": false
   },
   "outputs": [],
   "source": [
    "# check two results are equal\n",
    "assert set([round(x) for x in p_kb.scores_.tolist()]) ^ set([round(x) for x in kb.scores_]) == set()"
   ]
  }
 ],
 "metadata": {
  "kernelspec": {
   "display_name": "PySpark-dsierra (Spark 1.6 - python27)",
   "language": "python",
   "name": "pyspark-py27"
  },
  "language_info": {
   "codemirror_mode": {
    "name": "ipython",
    "version": 2
   },
   "file_extension": ".py",
   "mimetype": "text/x-python",
   "name": "python",
   "nbconvert_exporter": "python",
   "pygments_lexer": "ipython2",
   "version": "2.7.11"
  }
 },
 "nbformat": 4,
 "nbformat_minor": 0
}
